{
 "cells": [
  {
   "cell_type": "markdown",
   "id": "a8cfd2b7-ede8-4980-b885-42a8c9aa46f5",
   "metadata": {},
   "source": [
    "## AnyVar VCF processing and annotation\n",
    "\n",
    "### Setup\n",
    "\n",
    "First, we'll initialize AnyVar (we already have some required services running in the background) and the VCF registrar object"
   ]
  },
  {
   "cell_type": "code",
   "execution_count": 1,
   "id": "149106da-a4f7-4a7e-a2c1-154805bef2d2",
   "metadata": {
    "collapsed": true,
    "jupyter": {
     "outputs_hidden": true
    },
    "tags": []
   },
   "outputs": [
    {
     "name": "stderr",
     "output_type": "stream",
     "text": [
      "Removing allOf attribute from CopyNumber to avoid python-jsonschema-objects error.\n",
      "Removing allOf attribute from SequenceInterval to avoid python-jsonschema-objects error.\n",
      "Removing allOf attribute from RepeatedSequenceExpression to avoid python-jsonschema-objects error.\n",
      "/Users/jss009/code/anyvar/venv/lib/python3.8/site-packages/python_jsonschema_objects/__init__.py:49: UserWarning: Schema version http://json-schema.org/draft-07/schema not recognized. Some keywords and features may not be supported.\n",
      "  warnings.warn(\n"
     ]
    }
   ],
   "source": [
    "from pathlib import Path\n",
    "from timeit import default_timer as timer\n",
    "\n",
    "from anyvar.anyvar import create_storage, create_translator, AnyVar\n",
    "from anyvar.storage.postgres import PostgresBatchManager\n",
    "from anyvar.extras.vcf import VcfRegistrar"
   ]
  },
  {
   "cell_type": "code",
   "execution_count": 2,
   "id": "4dc892b7-9ba9-4ea0-9af0-8aea6114bc8b",
   "metadata": {
    "tags": []
   },
   "outputs": [],
   "source": [
    "av = AnyVar(\n",
    "    create_translator(\"http://localhost:7999/variation/\"),\n",
    "    create_storage(\"postgresql://postgres@localhost:5432/anyvar\")\n",
    ")\n",
    "vcf_registrar = VcfRegistrar(av)"
   ]
  },
  {
   "cell_type": "markdown",
   "id": "d2cd1685-5c37-4464-8908-32244972b059",
   "metadata": {},
   "source": [
    "### Input"
   ]
  },
  {
   "cell_type": "markdown",
   "id": "f5333db2-dd61-46e3-be0a-5f4ae493f728",
   "metadata": {
    "tags": []
   },
   "source": [
    "We have a sample file `vcf-100k-no-added-errors-01-20-23.vcf`, with about 100,000 rows comprised of simple SNPs and indels:"
   ]
  },
  {
   "cell_type": "code",
   "execution_count": 3,
   "id": "5a8366c6-d7e6-4cd0-8c52-918cb0b1c44f",
   "metadata": {
    "tags": []
   },
   "outputs": [
    {
     "name": "stdout",
     "output_type": "stream",
     "text": [
      "  107139 ../vcf-100k-no-added-errors-01-20-23.vcf\n"
     ]
    }
   ],
   "source": [
    "!wc -l ../vcf-100k-no-added-errors-01-20-23.vcf"
   ]
  },
  {
   "cell_type": "code",
   "execution_count": 4,
   "id": "a8df0639-37e9-460d-8485-850ee8878858",
   "metadata": {
    "tags": []
   },
   "outputs": [
    {
     "name": "stdout",
     "output_type": "stream",
     "text": [
      "\u001b[38;5;238m───────┬────────────────────────────────────────────────────────────────────────\u001b[0m\n",
      "       \u001b[38;5;238m│ \u001b[0mFile: \u001b[1m../vcf-100k-no-added-errors-01-20-23.vcf\u001b[0m\n",
      "\u001b[38;5;238m───────┼────────────────────────────────────────────────────────────────────────\u001b[0m\n",
      "\u001b[38;5;238m4000\u001b[0m   \u001b[38;5;238m│\u001b[0m \u001b[38;2;192;202;245mchr1    18476814    .   ATTCATCTCTCC    A   .   PASS    QUALapprox=1784\u001b[0m\n",
      "\u001b[38;5;238m    \u001b[0m   \u001b[38;5;238m│\u001b[0m \u001b[38;2;192;202;245m;SB=29,17,26,20;MQ=60.0000;MQRankSum=1.04600;VarDP=92;AS_ReadPosRankSum\u001b[0m\n",
      "\u001b[38;5;238m    \u001b[0m   \u001b[38;5;238m│\u001b[0m \u001b[38;2;192;202;245m=-0.371000;AS_pab_max=0.867939;AS_QD=19.3913;AS_MQ=60.0000;QD=19.3913;A\u001b[0m\n",
      "\u001b[38;5;238m    \u001b[0m   \u001b[38;5;238m│\u001b[0m \u001b[38;2;192;202;245mS_MQRankSum=1.04600;FS=1.73310;AS_FS=1.73310;ReadPosRankSum=-0.371000;A\u001b[0m\n",
      "\u001b[38;5;238m    \u001b[0m   \u001b[38;5;238m│\u001b[0m \u001b[38;2;192;202;245mS_QUALapprox=1784;AS_SB_TABLE=29,17,26,20;AS_VarDP=92;AS_SOR=0.466938;S\u001b[0m\n",
      "\u001b[38;5;238m    \u001b[0m   \u001b[38;5;238m│\u001b[0m \u001b[38;2;192;202;245mOR=0.467000;AS_VQSLOD=2.65400;InbreedingCoeff=-1.31130e-05\u001b[0m\n",
      "\u001b[38;5;238m4001\u001b[0m   \u001b[38;5;238m│\u001b[0m \u001b[38;2;192;202;245mchr1    18478618    .   GAGGAAAGAAGGGAGGGAGGGAGGAAGGAAGGAAGGAAGGA   G  \u001b[0m\n",
      "\u001b[38;5;238m    \u001b[0m   \u001b[38;5;238m│\u001b[0m \u001b[38;2;192;202;245m .   PASS    QUALapprox=472443;SB=33801,6409,10273,221;MQ=55.3025;MQRan\u001b[0m\n",
      "\u001b[38;5;238m    \u001b[0m   \u001b[38;5;238m│\u001b[0m \u001b[38;2;192;202;245mkSum=-1.06100;VarDP=51308;AS_ReadPosRankSum=1.66600;AS_pab_max=0.359283\u001b[0m\n",
      "\u001b[38;5;238m    \u001b[0m   \u001b[38;5;238m│\u001b[0m \u001b[38;2;192;202;245m;AS_QD=13.5263;AS_MQ=55.8653;QD=9.20798;AS_MQRankSum=-0.380000;FS=25.15\u001b[0m\n",
      "\u001b[38;5;238m    \u001b[0m   \u001b[38;5;238m│\u001b[0m \u001b[38;2;192;202;245m05;AS_FS=.;ReadPosRankSum=0.736000;AS_QUALapprox=257;AS_SB_TABLE=33801,\u001b[0m\n",
      "\u001b[38;5;238m    \u001b[0m   \u001b[38;5;238m│\u001b[0m \u001b[38;2;192;202;245m6409,5,2;AS_VarDP=19;AS_SOR=0.134394;SOR=4.35700;singleton;AS_VQSLOD=15\u001b[0m\n",
      "\u001b[38;5;238m    \u001b[0m   \u001b[38;5;238m│\u001b[0m \u001b[38;2;192;202;245m.0936;InbreedingCoeff=-9.29832e-06\u001b[0m\n",
      "\u001b[38;5;238m4002\u001b[0m   \u001b[38;5;238m│\u001b[0m \u001b[38;2;192;202;245mchr1    18480705    .   TGGCTGATCACAAGCTCAGCCCCTGG  T   .   PASS    QUA\u001b[0m\n",
      "\u001b[38;5;238m    \u001b[0m   \u001b[38;5;238m│\u001b[0m \u001b[38;2;192;202;245mLapprox=7722;SB=130,91,113,90;MQ=60.0000;MQRankSum=-0.207000;VarDP=424;\u001b[0m\n",
      "\u001b[38;5;238m    \u001b[0m   \u001b[38;5;238m│\u001b[0m \u001b[38;2;192;202;245mAS_ReadPosRankSum=0.0170000;AS_pab_max=0.874629;AS_QD=18.2123;AS_MQ=60.\u001b[0m\n",
      "\u001b[38;5;238m    \u001b[0m   \u001b[38;5;238m│\u001b[0m \u001b[38;2;192;202;245m0000;QD=18.2123;AS_MQRankSum=-0.207000;FS=1.75729;AS_FS=1.75729;ReadPos\u001b[0m\n",
      "\u001b[38;5;238m    \u001b[0m   \u001b[38;5;238m│\u001b[0m \u001b[38;2;192;202;245mRankSum=0.0170000;AS_QUALapprox=7722;AS_SB_TABLE=130,91,113,90;AS_VarDP\u001b[0m\n",
      "\u001b[38;5;238m    \u001b[0m   \u001b[38;5;238m│\u001b[0m \u001b[38;2;192;202;245m=424;AS_SOR=0.573256;SOR=0.573000;AS_VQSLOD=2.69030;InbreedingCoeff=-2.\u001b[0m\n",
      "\u001b[38;5;238m    \u001b[0m   \u001b[38;5;238m│\u001b[0m \u001b[38;2;192;202;245m63453e-05\u001b[0m\n",
      "\u001b[38;5;238m4003\u001b[0m   \u001b[38;5;238m│\u001b[0m \u001b[38;2;192;202;245mchr1    18500005    .   T   C   .   PASS    QUALapprox=511;SB=40,33,16,\u001b[0m\n",
      "\u001b[38;5;238m    \u001b[0m   \u001b[38;5;238m│\u001b[0m \u001b[38;2;192;202;245m9;MQ=59.9617;MQRankSum=0.00000;VarDP=98;AS_ReadPosRankSum=0.481000;AS_p\u001b[0m\n",
      "\u001b[38;5;238m    \u001b[0m   \u001b[38;5;238m│\u001b[0m \u001b[38;2;192;202;245mab_max=0.229523;AS_QD=18.8000;AS_MQ=60.0000;QD=5.21429;AS_MQRankSum=-0.\u001b[0m\n",
      "\u001b[38;5;238m    \u001b[0m   \u001b[38;5;238m│\u001b[0m \u001b[38;2;192;202;245m368000;FS=3.11919;AS_FS=1.04367;ReadPosRankSum=-0.175000;AS_QUALapprox=\u001b[0m\n",
      "\u001b[38;5;238m    \u001b[0m   \u001b[38;5;238m│\u001b[0m \u001b[38;2;192;202;245m470;AS_SB_TABLE=40,33,8,8;AS_VarDP=25;AS_SOR=0.523358;SOR=1.09400;singl\u001b[0m\n",
      "\u001b[38;5;238m    \u001b[0m   \u001b[38;5;238m│\u001b[0m \u001b[38;2;192;202;245meton;AS_VQSLOD=4.37060;InbreedingCoeff=-6.55651e-06\u001b[0m\n",
      "\u001b[38;5;238m───────┴────────────────────────────────────────────────────────────────────────\u001b[0m\n"
     ]
    }
   ],
   "source": [
    "!bat --line-range=4000:4003 ../vcf-100k-no-added-errors-01-20-23.vcf  # for example"
   ]
  },
  {
   "cell_type": "markdown",
   "id": "5800eeb2-b035-406a-9ed8-0e35e2aeabba",
   "metadata": {},
   "source": [
    "### Ingestion and annotation"
   ]
  },
  {
   "cell_type": "markdown",
   "id": "e731ade9-6b00-4b74-b2f3-be6a91f8a394",
   "metadata": {},
   "source": [
    "We'll run the `annotate()` method and track wall clock time:"
   ]
  },
  {
   "cell_type": "code",
   "execution_count": 5,
   "id": "71f0a884-287a-40a0-b736-e85933a8570b",
   "metadata": {
    "tags": []
   },
   "outputs": [
    {
     "name": "stdout",
     "output_type": "stream",
     "text": [
      "processed all VCF rows in 1964.3764593320002 seconds\n"
     ]
    }
   ],
   "source": [
    "start = timer()\n",
    "vcf_registrar.annotate(\n",
    "    \"../vcf-100k-no-added-errors-01-20-23.vcf\", \n",
    "    vcf_out=\"out.vcf\"\n",
    ")\n",
    "end = timer()\n",
    "print(f\"processed all VCF rows in {end - start} seconds\")"
   ]
  },
  {
   "cell_type": "code",
   "execution_count": 6,
   "id": "e52a6bcf-57f7-4127-b316-10740c111613",
   "metadata": {
    "tags": []
   },
   "outputs": [
    {
     "name": "stdout",
     "output_type": "stream",
     "text": [
      "Between references and alternates, this registers 198098 alleles.\n"
     ]
    }
   ],
   "source": [
    "allele_count = av.object_store.get_variation_count('all')\n",
    "print(f\"Between references and alternates, this registers {allele_count} alleles.\")"
   ]
  },
  {
   "cell_type": "code",
   "execution_count": null,
   "id": "d0bc8505-9d12-44fa-9ede-64ccea2c98b2",
   "metadata": {
    "tags": []
   },
   "outputs": [],
   "source": []
  },
  {
   "cell_type": "markdown",
   "id": "2c4e72b6-5f11-48a3-a55b-ac63a6693785",
   "metadata": {},
   "source": [
    "### Output"
   ]
  },
  {
   "cell_type": "markdown",
   "id": "6b8371e5-e1df-4cd7-8f33-1fe56230e2dc",
   "metadata": {},
   "source": [
    "This process adds VRS allele IDs to the VCF's INFO field:"
   ]
  },
  {
   "cell_type": "code",
   "execution_count": 7,
   "id": "79198412-b69b-4677-86aa-e542cb564674",
   "metadata": {
    "tags": []
   },
   "outputs": [
    {
     "name": "stdout",
     "output_type": "stream",
     "text": [
      "\u001b[38;5;238m───────┬────────────────────────────────────────────────────────────────────────\u001b[0m\n",
      "       \u001b[38;5;238m│ \u001b[0mFile: \u001b[1mout.vcf\u001b[0m\n",
      "\u001b[38;5;238m───────┼────────────────────────────────────────────────────────────────────────\u001b[0m\n",
      "\u001b[38;5;238m4000\u001b[0m   \u001b[38;5;238m│\u001b[0m \u001b[38;2;192;202;245mchr1    18357472    .   GGGATGAGGTGGGGATGGGGATGGGAATGAAGTGGA    G   .  \u001b[0m\n",
      "\u001b[38;5;238m    \u001b[0m   \u001b[38;5;238m│\u001b[0m \u001b[38;2;192;202;245m AS_VQSR QUALapprox=1111;SB=377,138,62,9;MQ=59.9291;MQRankSum=0.48;VarD\u001b[0m\n",
      "\u001b[38;5;238m    \u001b[0m   \u001b[38;5;238m│\u001b[0m \u001b[38;2;192;202;245mP=586;AS_ReadPosRankSum=-1.271;AS_pab_max=0.375;AS_QD=1.89811;AS_MQ=59.\u001b[0m\n",
      "\u001b[38;5;238m    \u001b[0m   \u001b[38;5;238m│\u001b[0m \u001b[38;2;192;202;245m9236;QD=1.8959;AS_MQRankSum=0.48;FS=6.83343;AS_FS=15.2899;ReadPosRankSu\u001b[0m\n",
      "\u001b[38;5;238m    \u001b[0m   \u001b[38;5;238m│\u001b[0m \u001b[38;2;192;202;245mm=-1.231;AS_QUALapprox=1006;AS_SB_TABLE=377,138,58,5;AS_VarDP=530;AS_SO\u001b[0m\n",
      "\u001b[38;5;238m    \u001b[0m   \u001b[38;5;238m│\u001b[0m \u001b[38;2;192;202;245mR=2.64441;SOR=1.851;AS_VQSLOD=-2.4957;InbreedingCoeff=-0.000289321;VRS_\u001b[0m\n",
      "\u001b[38;5;238m    \u001b[0m   \u001b[38;5;238m│\u001b[0m \u001b[38;2;192;202;245mAllele=ga4gh:VA.7WnGU91csokVUIk06Qgbte8vCd1gqUsY,ga4gh:VA.8grD8SPIVB8MQ\u001b[0m\n",
      "\u001b[38;5;238m    \u001b[0m   \u001b[38;5;238m│\u001b[0m \u001b[38;2;192;202;245mq7E_OuTvZbgbAIys2Il\u001b[0m\n",
      "\u001b[38;5;238m4001\u001b[0m   \u001b[38;5;238m│\u001b[0m \u001b[38;2;192;202;245mchr1    18467245    .   G   C   .   PASS    QUALapprox=1466;SB=41,21,28\u001b[0m\n",
      "\u001b[38;5;238m    \u001b[0m   \u001b[38;5;238m│\u001b[0m \u001b[38;2;192;202;245m,30;MQ=60;MQRankSum=0.879;VarDP=120;AS_ReadPosRankSum=-0.189;AS_pab_max\u001b[0m\n",
      "\u001b[38;5;238m    \u001b[0m   \u001b[38;5;238m│\u001b[0m \u001b[38;2;192;202;245m=1;AS_QD=12.2167;AS_MQ=60;QD=12.2167;AS_MQRankSum=0.879;FS=11.8989;AS_F\u001b[0m\n",
      "\u001b[38;5;238m    \u001b[0m   \u001b[38;5;238m│\u001b[0m \u001b[38;2;192;202;245mS=11.8989;ReadPosRankSum=-0.189;AS_QUALapprox=1466;AS_SB_TABLE=41,21,28\u001b[0m\n",
      "\u001b[38;5;238m    \u001b[0m   \u001b[38;5;238m│\u001b[0m \u001b[38;2;192;202;245m,30;AS_VarDP=120;AS_SOR=0.348587;SOR=0.349;AS_VQSLOD=4.4446;InbreedingC\u001b[0m\n",
      "\u001b[38;5;238m    \u001b[0m   \u001b[38;5;238m│\u001b[0m \u001b[38;2;192;202;245moeff=-1.96695e-05;VRS_Allele=ga4gh:VA.uQ3gn707Jt4RveHLGeKGQpqzzUWtYaWw,\u001b[0m\n",
      "\u001b[38;5;238m    \u001b[0m   \u001b[38;5;238m│\u001b[0m \u001b[38;2;192;202;245mga4gh:VA.4DKgte-DjFZ71nmAw9Vv52snNVKoxg5z\u001b[0m\n",
      "\u001b[38;5;238m4002\u001b[0m   \u001b[38;5;238m│\u001b[0m \u001b[38;2;192;202;245mchr1    18476814    .   ATTCATCTCTCC    A   .   PASS    QUALapprox=1784\u001b[0m\n",
      "\u001b[38;5;238m    \u001b[0m   \u001b[38;5;238m│\u001b[0m \u001b[38;2;192;202;245m;SB=29,17,26,20;MQ=60;MQRankSum=1.046;VarDP=92;AS_ReadPosRankSum=-0.371\u001b[0m\n",
      "\u001b[38;5;238m    \u001b[0m   \u001b[38;5;238m│\u001b[0m \u001b[38;2;192;202;245m;AS_pab_max=0.867939;AS_QD=19.3913;AS_MQ=60;QD=19.3913;AS_MQRankSum=1.0\u001b[0m\n",
      "\u001b[38;5;238m    \u001b[0m   \u001b[38;5;238m│\u001b[0m \u001b[38;2;192;202;245m46;FS=1.7331;AS_FS=1.7331;ReadPosRankSum=-0.371;AS_QUALapprox=1784;AS_S\u001b[0m\n",
      "\u001b[38;5;238m    \u001b[0m   \u001b[38;5;238m│\u001b[0m \u001b[38;2;192;202;245mB_TABLE=29,17,26,20;AS_VarDP=92;AS_SOR=0.466938;SOR=0.467;AS_VQSLOD=2.6\u001b[0m\n",
      "\u001b[38;5;238m    \u001b[0m   \u001b[38;5;238m│\u001b[0m \u001b[38;2;192;202;245m54;InbreedingCoeff=-1.3113e-05;VRS_Allele=ga4gh:VA.tT2-U2WwLDM0r77vQwCu\u001b[0m\n",
      "\u001b[38;5;238m    \u001b[0m   \u001b[38;5;238m│\u001b[0m \u001b[38;2;192;202;245m3amz8fCkuVw_,ga4gh:VA.tRZlSaiaekR-f6PfTaQMeUQmv1uvJRoa\u001b[0m\n",
      "\u001b[38;5;238m4003\u001b[0m   \u001b[38;5;238m│\u001b[0m \u001b[38;2;192;202;245mchr1    18478618    .   GAGGAAAGAAGGGAGGGAGGGAGGAAGGAAGGAAGGAAGGA   G  \u001b[0m\n",
      "\u001b[38;5;238m    \u001b[0m   \u001b[38;5;238m│\u001b[0m \u001b[38;2;192;202;245m .   PASS    QUALapprox=472443;SB=33801,6409,10273,221;MQ=55.3025;MQRan\u001b[0m\n",
      "\u001b[38;5;238m    \u001b[0m   \u001b[38;5;238m│\u001b[0m \u001b[38;2;192;202;245mkSum=-1.061;VarDP=51308;AS_ReadPosRankSum=1.666;AS_pab_max=0.359283;AS_\u001b[0m\n",
      "\u001b[38;5;238m    \u001b[0m   \u001b[38;5;238m│\u001b[0m \u001b[38;2;192;202;245mQD=13.5263;AS_MQ=55.8653;QD=9.20798;AS_MQRankSum=-0.38;FS=25.1505;AS_FS\u001b[0m\n",
      "\u001b[38;5;238m    \u001b[0m   \u001b[38;5;238m│\u001b[0m \u001b[38;2;192;202;245m=.;ReadPosRankSum=0.736;AS_QUALapprox=257;AS_SB_TABLE=33801,6409,5,2;AS\u001b[0m\n",
      "\u001b[38;5;238m    \u001b[0m   \u001b[38;5;238m│\u001b[0m \u001b[38;2;192;202;245m_VarDP=19;AS_SOR=0.134394;SOR=4.357;singleton;AS_VQSLOD=15.0936;Inbreed\u001b[0m\n",
      "\u001b[38;5;238m    \u001b[0m   \u001b[38;5;238m│\u001b[0m \u001b[38;2;192;202;245mingCoeff=-9.29832e-06;VRS_Allele=ga4gh:VA.53I40AWtmxlEbsaQwpYZ4s_if0qVY\u001b[0m\n",
      "\u001b[38;5;238m    \u001b[0m   \u001b[38;5;238m│\u001b[0m \u001b[38;2;192;202;245mjOU,ga4gh:VA.Kne5ouJJ-vPwJthJa0EK00zOUt9drP7u\u001b[0m\n",
      "\u001b[38;5;238m───────┴────────────────────────────────────────────────────────────────────────\u001b[0m\n"
     ]
    }
   ],
   "source": [
    "!bat --line-range=4000:4003 out.vcf"
   ]
  },
  {
   "cell_type": "markdown",
   "id": "b11fdf60-2db4-44eb-b2bc-1c3a424c3443",
   "metadata": {},
   "source": [
    "We can dereference those IDs to retrieve the complete VRS allele:"
   ]
  },
  {
   "cell_type": "code",
   "execution_count": 8,
   "id": "ecd9ecc1-9dbb-49ed-b081-2e84c9a0a2e9",
   "metadata": {
    "tags": []
   },
   "outputs": [
    {
     "data": {
      "text/plain": [
       "{'_id': 'ga4gh:VA.tT2-U2WwLDM0r77vQwCu3amz8fCkuVw_',\n",
       " 'type': 'Allele',\n",
       " 'location': {'type': 'SequenceLocation',\n",
       "  'sequence_id': 'ga4gh:SQ.Ya6Rs7DHhDeg7YaOSg1EoNi3U_nQ9SvO',\n",
       "  'interval': {'type': 'SequenceInterval',\n",
       "   'start': {'type': 'Number', 'value': 18476813},\n",
       "   'end': {'type': 'Number', 'value': 18476825}}},\n",
       " 'state': {'type': 'LiteralSequenceExpression', 'sequence': 'ATTCATCTCTCC'}}"
      ]
     },
     "execution_count": 8,
     "metadata": {},
     "output_type": "execute_result"
    }
   ],
   "source": [
    "av.get_object(\"ga4gh:VA.tT2-U2WwLDM0r77vQwCu3amz8fCkuVw_\", True).as_dict()"
   ]
  },
  {
   "cell_type": "markdown",
   "id": "a4da9841-3b50-41f4-a2e5-843e10b41909",
   "metadata": {},
   "source": [
    "### Search\n",
    "\n",
    "Currently, we support basic genomic region searches:"
   ]
  },
  {
   "cell_type": "code",
   "execution_count": 9,
   "id": "d4e51daf-3354-4187-b63d-4aa7e299f02f",
   "metadata": {},
   "outputs": [
    {
     "data": {
      "text/plain": [
       "[{'_id': 'ga4gh:VA.Q19O8HhV1UnaYYAmcgmpcy1UDHkU4mdD',\n",
       "  'type': 'Allele',\n",
       "  'state': {'type': 'LiteralSequenceExpression', 'sequence': 'C'},\n",
       "  'location': 'ga4gh:VSL.tWfR6n2aEy6patCt2DcWa7mf4UD6poT_'},\n",
       " {'_id': 'ga4gh:VA.SwdQzWZyRDzJSVDKZCaa1BDX-zjCP8GJ',\n",
       "  'type': 'Allele',\n",
       "  'state': {'type': 'LiteralSequenceExpression',\n",
       "   'sequence': 'TTTTTTTTTCTTTTTTTTTTTTTTTTTTTTTTTTTTTTTTTTTT'},\n",
       "  'location': 'ga4gh:VSL.PpwQTE2qCqjlCILek9uZTnfXycki__tX'},\n",
       " {'_id': 'ga4gh:VA.qihaf7S9gRb2fxvOA1OJ6ghcfr7OudaS',\n",
       "  'type': 'Allele',\n",
       "  'state': {'type': 'LiteralSequenceExpression', 'sequence': 'T'},\n",
       "  'location': 'ga4gh:VSL.iJCaR2HHgifLaqbyK3CYik4XRKJUvwL8'},\n",
       " {'_id': 'ga4gh:VA.Kqa1gjWWWfiuc54Ze2J170k9t0WPCUQN',\n",
       "  'type': 'Allele',\n",
       "  'state': {'type': 'LiteralSequenceExpression', 'sequence': 'C'},\n",
       "  'location': 'ga4gh:VSL.iJCaR2HHgifLaqbyK3CYik4XRKJUvwL8'}]"
      ]
     },
     "execution_count": 9,
     "metadata": {},
     "output_type": "execute_result"
    }
   ],
   "source": [
    "chr4 = av.translator.get_sequence_id(\"NCBI:NC_000004.12\")\n",
    "av.object_store.search_variations(chr4, 400000, 500000)"
   ]
  },
  {
   "cell_type": "code",
   "execution_count": null,
   "id": "6eee0c2a-9007-47fd-a4e0-fe3892931add",
   "metadata": {},
   "outputs": [],
   "source": []
  }
 ],
 "metadata": {
  "kernelspec": {
   "display_name": "anyvar",
   "language": "python",
   "name": "anyvar"
  },
  "language_info": {
   "codemirror_mode": {
    "name": "ipython",
    "version": 3
   },
   "file_extension": ".py",
   "mimetype": "text/x-python",
   "name": "python",
   "nbconvert_exporter": "python",
   "pygments_lexer": "ipython3",
   "version": "3.8.13"
  }
 },
 "nbformat": 4,
 "nbformat_minor": 5
}
